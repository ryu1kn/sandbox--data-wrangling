{
 "cells": [
  {
   "cell_type": "markdown",
   "source": [
    "# Select subset of rows"
   ],
   "metadata": {
    "collapsed": false
   }
  },
  {
   "cell_type": "code",
   "execution_count": 1,
   "outputs": [],
   "source": [
    "import duckdb\n",
    "import polars as pl\n",
    "import pyarrow.compute as pc\n",
    "import pyarrow.dataset as ds\n",
    "\n",
    "from dw.sample_data import get_data_dir"
   ],
   "metadata": {
    "collapsed": false,
    "ExecuteTime": {
     "start_time": "2023-04-06T23:30:23.757272Z",
     "end_time": "2023-04-06T23:30:24.659235Z"
    }
   }
  },
  {
   "cell_type": "code",
   "execution_count": 2,
   "outputs": [],
   "source": [
    "data_dir = get_data_dir()"
   ],
   "metadata": {
    "collapsed": false,
    "ExecuteTime": {
     "start_time": "2023-04-06T23:30:24.661397Z",
     "end_time": "2023-04-06T23:30:24.664270Z"
    }
   }
  },
  {
   "cell_type": "markdown",
   "source": [
    "## Polars"
   ],
   "metadata": {
    "collapsed": false
   }
  },
  {
   "cell_type": "code",
   "execution_count": 3,
   "outputs": [],
   "source": [
    "df_pl = pl.scan_parquet(f\"{data_dir}/*.parquet\")"
   ],
   "metadata": {
    "collapsed": false,
    "ExecuteTime": {
     "start_time": "2023-04-06T23:30:24.668274Z",
     "end_time": "2023-04-06T23:30:24.670920Z"
    }
   }
  },
  {
   "cell_type": "code",
   "execution_count": 4,
   "outputs": [
    {
     "name": "stderr",
     "output_type": "stream",
     "text": [
      "STREAMING CHUNK SIZE: 16666 rows\n"
     ]
    },
    {
     "name": "stdout",
     "output_type": "stream",
     "text": [
      "CPU times: user 5.36 s, sys: 12.6 s, total: 17.9 s\n",
      "Wall time: 11.6 s\n"
     ]
    },
    {
     "data": {
      "text/plain": "shape: (2, 3)\n┌─────────┬───────────────────────────────────┬───────────────┐\n│ id      ┆ text                              ┆ to_be_ignored │\n│ ---     ┆ ---                               ┆ ---           │\n│ i64     ┆ str                               ┆ i64           │\n╞═════════╪═══════════════════════════════════╪═══════════════╡\n│ 4000000 ┆ Lorem ipsum dolor sit amet, cons… ┆ 29            │\n│ 6000000 ┆ Lorem ipsum dolor sit amet, cons… ┆ 20            │\n└─────────┴───────────────────────────────────┴───────────────┘",
      "text/html": "<div><style>\n.dataframe > thead > tr > th,\n.dataframe > tbody > tr > td {\n  text-align: right;\n}\n</style>\n<small>shape: (2, 3)</small><table border=\"1\" class=\"dataframe\"><thead><tr><th>id</th><th>text</th><th>to_be_ignored</th></tr><tr><td>i64</td><td>str</td><td>i64</td></tr></thead><tbody><tr><td>4000000</td><td>&quot;Lorem ipsum do…</td><td>29</td></tr><tr><td>6000000</td><td>&quot;Lorem ipsum do…</td><td>20</td></tr></tbody></table></div>"
     },
     "execution_count": 4,
     "metadata": {},
     "output_type": "execute_result"
    }
   ],
   "source": [
    "%%time\n",
    "(df_pl\n",
    " .filter(pl.col(\"id\").is_in([4000000, 6000000]))\n",
    " .collect(streaming=True)\n",
    ")"
   ],
   "metadata": {
    "collapsed": false,
    "ExecuteTime": {
     "start_time": "2023-04-06T23:30:24.675248Z",
     "end_time": "2023-04-06T23:30:36.368786Z"
    }
   }
  },
  {
   "cell_type": "markdown",
   "source": [
    "## DuckDB"
   ],
   "metadata": {
    "collapsed": false
   }
  },
  {
   "cell_type": "code",
   "execution_count": 5,
   "outputs": [],
   "source": [
    "cursor = duckdb.connect()"
   ],
   "metadata": {
    "collapsed": false,
    "ExecuteTime": {
     "start_time": "2023-04-06T23:30:36.365027Z",
     "end_time": "2023-04-06T23:30:36.383298Z"
    }
   }
  },
  {
   "cell_type": "code",
   "execution_count": 6,
   "outputs": [
    {
     "name": "stdout",
     "output_type": "stream",
     "text": [
      "CPU times: user 235 ms, sys: 30.6 ms, total: 265 ms\n",
      "Wall time: 308 ms\n"
     ]
    },
    {
     "data": {
      "text/plain": "        id  to_be_ignored                                               text\n0  4000000             29  Lorem ipsum dolor sit amet, consectetur adipis...\n1  6000000             20  Lorem ipsum dolor sit amet, consectetur adipis...",
      "text/html": "<div>\n<style scoped>\n    .dataframe tbody tr th:only-of-type {\n        vertical-align: middle;\n    }\n\n    .dataframe tbody tr th {\n        vertical-align: top;\n    }\n\n    .dataframe thead th {\n        text-align: right;\n    }\n</style>\n<table border=\"1\" class=\"dataframe\">\n  <thead>\n    <tr style=\"text-align: right;\">\n      <th></th>\n      <th>id</th>\n      <th>to_be_ignored</th>\n      <th>text</th>\n    </tr>\n  </thead>\n  <tbody>\n    <tr>\n      <th>0</th>\n      <td>4000000</td>\n      <td>29</td>\n      <td>Lorem ipsum dolor sit amet, consectetur adipis...</td>\n    </tr>\n    <tr>\n      <th>1</th>\n      <td>6000000</td>\n      <td>20</td>\n      <td>Lorem ipsum dolor sit amet, consectetur adipis...</td>\n    </tr>\n  </tbody>\n</table>\n</div>"
     },
     "execution_count": 6,
     "metadata": {},
     "output_type": "execute_result"
    }
   ],
   "source": [
    "%%time\n",
    "cursor.execute(f\"\"\"\n",
    "SELECT table_a.id, to_be_ignored, text\n",
    "FROM (VALUES (4000000), (6000000)) table_a(id)\n",
    "LEFT JOIN read_parquet(\"{data_dir}/*.parquet\") table_b\n",
    "ON table_a.id == table_b.id\n",
    "\"\"\").df()"
   ],
   "metadata": {
    "collapsed": false,
    "ExecuteTime": {
     "start_time": "2023-04-06T23:30:36.365353Z",
     "end_time": "2023-04-06T23:30:36.687448Z"
    }
   }
  },
  {
   "cell_type": "markdown",
   "source": [
    "## PyArrow"
   ],
   "metadata": {
    "collapsed": false
   }
  },
  {
   "cell_type": "code",
   "execution_count": 7,
   "outputs": [
    {
     "name": "stdout",
     "output_type": "stream",
     "text": [
      "CPU times: user 27.6 s, sys: 58.9 s, total: 1min 26s\n",
      "Wall time: 37.7 s\n"
     ]
    },
    {
     "data": {
      "text/plain": "        id                                               text  to_be_ignored\n0  4000000  Lorem ipsum dolor sit amet, consectetur adipis...             29\n1  6000000  Lorem ipsum dolor sit amet, consectetur adipis...             20",
      "text/html": "<div>\n<style scoped>\n    .dataframe tbody tr th:only-of-type {\n        vertical-align: middle;\n    }\n\n    .dataframe tbody tr th {\n        vertical-align: top;\n    }\n\n    .dataframe thead th {\n        text-align: right;\n    }\n</style>\n<table border=\"1\" class=\"dataframe\">\n  <thead>\n    <tr style=\"text-align: right;\">\n      <th></th>\n      <th>id</th>\n      <th>text</th>\n      <th>to_be_ignored</th>\n    </tr>\n  </thead>\n  <tbody>\n    <tr>\n      <th>0</th>\n      <td>4000000</td>\n      <td>Lorem ipsum dolor sit amet, consectetur adipis...</td>\n      <td>29</td>\n    </tr>\n    <tr>\n      <th>1</th>\n      <td>6000000</td>\n      <td>Lorem ipsum dolor sit amet, consectetur adipis...</td>\n      <td>20</td>\n    </tr>\n  </tbody>\n</table>\n</div>"
     },
     "execution_count": 7,
     "metadata": {},
     "output_type": "execute_result"
    }
   ],
   "source": [
    "%%time\n",
    "ds.dataset(data_dir, format=\"parquet\").filter(pc.field(\"id\").isin([4000000, 6000000])).to_table().to_pandas()"
   ],
   "metadata": {
    "collapsed": false,
    "ExecuteTime": {
     "start_time": "2023-04-06T23:30:36.685664Z",
     "end_time": "2023-04-06T23:31:14.432911Z"
    }
   }
  },
  {
   "cell_type": "code",
   "execution_count": 7,
   "outputs": [],
   "source": [],
   "metadata": {
    "collapsed": false,
    "ExecuteTime": {
     "start_time": "2023-04-06T23:31:14.434672Z",
     "end_time": "2023-04-06T23:31:14.438397Z"
    }
   }
  }
 ],
 "metadata": {
  "kernelspec": {
   "display_name": "Python 3",
   "language": "python",
   "name": "python3"
  },
  "language_info": {
   "codemirror_mode": {
    "name": "ipython",
    "version": 2
   },
   "file_extension": ".py",
   "mimetype": "text/x-python",
   "name": "python",
   "nbconvert_exporter": "python",
   "pygments_lexer": "ipython2",
   "version": "2.7.6"
  }
 },
 "nbformat": 4,
 "nbformat_minor": 0
}
