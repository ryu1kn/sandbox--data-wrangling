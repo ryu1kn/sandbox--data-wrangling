{
 "cells": [
  {
   "cell_type": "markdown",
   "source": [
    "# Select subset of rows"
   ],
   "metadata": {
    "collapsed": false
   }
  },
  {
   "cell_type": "code",
   "execution_count": 1,
   "outputs": [],
   "source": [
    "import duckdb\n",
    "import polars as pl\n",
    "import pyarrow.compute as pc\n",
    "import pyarrow.dataset as ds"
   ],
   "metadata": {
    "collapsed": false,
    "ExecuteTime": {
     "start_time": "2023-04-06T15:18:49.194430Z",
     "end_time": "2023-04-06T15:18:50.464091Z"
    }
   }
  },
  {
   "cell_type": "code",
   "execution_count": 2,
   "outputs": [],
   "source": [
    "data_dir = \"../tmp\""
   ],
   "metadata": {
    "collapsed": false,
    "ExecuteTime": {
     "start_time": "2023-04-06T15:18:50.466376Z",
     "end_time": "2023-04-06T15:18:50.470871Z"
    }
   }
  },
  {
   "cell_type": "markdown",
   "source": [
    "## Polars"
   ],
   "metadata": {
    "collapsed": false
   }
  },
  {
   "cell_type": "code",
   "execution_count": 3,
   "outputs": [],
   "source": [
    "df_pl = pl.scan_parquet(f\"{data_dir}/*.parquet\")"
   ],
   "metadata": {
    "collapsed": false,
    "ExecuteTime": {
     "start_time": "2023-04-06T15:18:50.473302Z",
     "end_time": "2023-04-06T15:18:50.502030Z"
    }
   }
  },
  {
   "cell_type": "code",
   "execution_count": 4,
   "outputs": [
    {
     "name": "stderr",
     "output_type": "stream",
     "text": [
      "STREAMING CHUNK SIZE: 16666 rows\n"
     ]
    },
    {
     "name": "stdout",
     "output_type": "stream",
     "text": [
      "CPU times: user 5.98 s, sys: 14.9 s, total: 20.9 s\n",
      "Wall time: 11.8 s\n"
     ]
    },
    {
     "data": {
      "text/plain": "shape: (2, 3)\n┌─────────┬──────────────────────────────────┬───────────────┐\n│ id      ┆ text                             ┆ to_be_ignored │\n│ ---     ┆ ---                              ┆ ---           │\n│ i64     ┆ str                              ┆ i64           │\n╞═════════╪══════════════════════════════════╪═══════════════╡\n│ 4000000 ┆                                  ┆ 6             │\n│         ┆ Lorem ipsum dolor sit amet, con… ┆               │\n│ 6000000 ┆                                  ┆ 29            │\n│         ┆ Lorem ipsum dolor sit amet, con… ┆               │\n└─────────┴──────────────────────────────────┴───────────────┘",
      "text/html": "<div><style>\n.dataframe > thead > tr > th,\n.dataframe > tbody > tr > td {\n  text-align: right;\n}\n</style>\n<small>shape: (2, 3)</small><table border=\"1\" class=\"dataframe\"><thead><tr><th>id</th><th>text</th><th>to_be_ignored</th></tr><tr><td>i64</td><td>str</td><td>i64</td></tr></thead><tbody><tr><td>4000000</td><td>&quot;\nLorem ipsum d…</td><td>6</td></tr><tr><td>6000000</td><td>&quot;\nLorem ipsum d…</td><td>29</td></tr></tbody></table></div>"
     },
     "execution_count": 4,
     "metadata": {},
     "output_type": "execute_result"
    }
   ],
   "source": [
    "%%time\n",
    "(df_pl\n",
    " .filter(pl.col(\"id\").is_in([4000000, 6000000]))\n",
    " .collect(streaming=True)\n",
    ")"
   ],
   "metadata": {
    "collapsed": false,
    "ExecuteTime": {
     "start_time": "2023-04-06T15:18:50.509180Z",
     "end_time": "2023-04-06T15:19:02.389023Z"
    }
   }
  },
  {
   "cell_type": "markdown",
   "source": [
    "## DuckDB"
   ],
   "metadata": {
    "collapsed": false
   }
  },
  {
   "cell_type": "code",
   "execution_count": 5,
   "outputs": [],
   "source": [
    "cursor = duckdb.connect()"
   ],
   "metadata": {
    "collapsed": false,
    "ExecuteTime": {
     "start_time": "2023-04-06T15:19:02.362165Z",
     "end_time": "2023-04-06T15:19:02.631578Z"
    }
   }
  },
  {
   "cell_type": "code",
   "execution_count": 6,
   "outputs": [
    {
     "name": "stdout",
     "output_type": "stream",
     "text": [
      "CPU times: user 234 ms, sys: 26.4 ms, total: 260 ms\n",
      "Wall time: 301 ms\n"
     ]
    },
    {
     "data": {
      "text/plain": "        id  to_be_ignored                                               text\n0  4000000              6  \\nLorem ipsum dolor sit amet, consectetur adip...\n1  6000000             29  \\nLorem ipsum dolor sit amet, consectetur adip...",
      "text/html": "<div>\n<style scoped>\n    .dataframe tbody tr th:only-of-type {\n        vertical-align: middle;\n    }\n\n    .dataframe tbody tr th {\n        vertical-align: top;\n    }\n\n    .dataframe thead th {\n        text-align: right;\n    }\n</style>\n<table border=\"1\" class=\"dataframe\">\n  <thead>\n    <tr style=\"text-align: right;\">\n      <th></th>\n      <th>id</th>\n      <th>to_be_ignored</th>\n      <th>text</th>\n    </tr>\n  </thead>\n  <tbody>\n    <tr>\n      <th>0</th>\n      <td>4000000</td>\n      <td>6</td>\n      <td>\\nLorem ipsum dolor sit amet, consectetur adip...</td>\n    </tr>\n    <tr>\n      <th>1</th>\n      <td>6000000</td>\n      <td>29</td>\n      <td>\\nLorem ipsum dolor sit amet, consectetur adip...</td>\n    </tr>\n  </tbody>\n</table>\n</div>"
     },
     "execution_count": 6,
     "metadata": {},
     "output_type": "execute_result"
    }
   ],
   "source": [
    "%%time\n",
    "cursor.execute(f\"\"\"\n",
    "SELECT table_a.id, to_be_ignored, text\n",
    "FROM (VALUES (4000000), (6000000)) table_a(id)\n",
    "LEFT JOIN read_parquet(\"{data_dir}/*.parquet\") table_b\n",
    "ON table_a.id == table_b.id\n",
    "\"\"\").df()"
   ],
   "metadata": {
    "collapsed": false,
    "ExecuteTime": {
     "start_time": "2023-04-06T15:19:02.363487Z",
     "end_time": "2023-04-06T15:19:03.162172Z"
    }
   }
  },
  {
   "cell_type": "markdown",
   "source": [
    "## PyArrow"
   ],
   "metadata": {
    "collapsed": false
   }
  },
  {
   "cell_type": "code",
   "execution_count": 7,
   "outputs": [
    {
     "name": "stdout",
     "output_type": "stream",
     "text": [
      "CPU times: user 29.8 s, sys: 1min 4s, total: 1min 34s\n",
      "Wall time: 40.3 s\n"
     ]
    },
    {
     "data": {
      "text/plain": "        id                                               text  to_be_ignored\n0  4000000  \\nLorem ipsum dolor sit amet, consectetur adip...              6\n1  6000000  \\nLorem ipsum dolor sit amet, consectetur adip...             29",
      "text/html": "<div>\n<style scoped>\n    .dataframe tbody tr th:only-of-type {\n        vertical-align: middle;\n    }\n\n    .dataframe tbody tr th {\n        vertical-align: top;\n    }\n\n    .dataframe thead th {\n        text-align: right;\n    }\n</style>\n<table border=\"1\" class=\"dataframe\">\n  <thead>\n    <tr style=\"text-align: right;\">\n      <th></th>\n      <th>id</th>\n      <th>text</th>\n      <th>to_be_ignored</th>\n    </tr>\n  </thead>\n  <tbody>\n    <tr>\n      <th>0</th>\n      <td>4000000</td>\n      <td>\\nLorem ipsum dolor sit amet, consectetur adip...</td>\n      <td>6</td>\n    </tr>\n    <tr>\n      <th>1</th>\n      <td>6000000</td>\n      <td>\\nLorem ipsum dolor sit amet, consectetur adip...</td>\n      <td>29</td>\n    </tr>\n  </tbody>\n</table>\n</div>"
     },
     "execution_count": 7,
     "metadata": {},
     "output_type": "execute_result"
    }
   ],
   "source": [
    "%%time\n",
    "ds.dataset(data_dir, format=\"parquet\").filter(pc.field(\"id\").isin([4000000, 6000000])).to_table().to_pandas()"
   ],
   "metadata": {
    "collapsed": false,
    "ExecuteTime": {
     "start_time": "2023-04-06T15:19:02.639153Z",
     "end_time": "2023-04-06T15:19:42.975622Z"
    }
   }
  },
  {
   "cell_type": "code",
   "execution_count": 7,
   "outputs": [],
   "source": [],
   "metadata": {
    "collapsed": false,
    "ExecuteTime": {
     "start_time": "2023-04-06T15:19:42.974794Z",
     "end_time": "2023-04-06T15:19:42.977803Z"
    }
   }
  }
 ],
 "metadata": {
  "kernelspec": {
   "display_name": "Python 3",
   "language": "python",
   "name": "python3"
  },
  "language_info": {
   "codemirror_mode": {
    "name": "ipython",
    "version": 2
   },
   "file_extension": ".py",
   "mimetype": "text/x-python",
   "name": "python",
   "nbconvert_exporter": "python",
   "pygments_lexer": "ipython2",
   "version": "2.7.6"
  }
 },
 "nbformat": 4,
 "nbformat_minor": 0
}
