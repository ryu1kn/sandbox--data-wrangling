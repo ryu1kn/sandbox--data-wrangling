{
 "cells": [
  {
   "cell_type": "markdown",
   "source": [
    "# PyArrow Stream"
   ],
   "metadata": {
    "collapsed": false
   }
  },
  {
   "cell_type": "code",
   "execution_count": 5,
   "metadata": {
    "collapsed": true
   },
   "outputs": [],
   "source": [
    "import pyarrow as pa\n",
    "import pyarrow.parquet as pq\n",
    "import pyarrow.dataset as ds\n",
    "import numpy as np"
   ]
  },
  {
   "cell_type": "code",
   "execution_count": 2,
   "outputs": [],
   "source": [
    "sample_size = 1_000_000\n",
    "data_dir = \"../tmp\""
   ],
   "metadata": {
    "collapsed": false
   }
  },
  {
   "cell_type": "markdown",
   "source": [
    "## Data preparation"
   ],
   "metadata": {
    "collapsed": false
   }
  },
  {
   "cell_type": "code",
   "execution_count": 3,
   "outputs": [],
   "source": [
    "text = \"\"\"\n",
    "Lorem ipsum dolor sit amet, consectetur adipiscing elit. Sed sapien tellus,\n",
    "aliquet eu semper ut, faucibus in augue. Donec mollis nisi vitae nulla tristique, ut\n",
    "iaculis tortor ultricies. Nullam finibus tortor eros, et elementum dolor lacinia et.\n",
    "In hac habitasse platea dictumst. Ut a tempus tellus. Nam hendrerit luctus nisi, at\n",
    "condimentum nibh. Morbi sed eleifend dui. Donec pellentesque efficitur nunc ut consequat.\n",
    "In id varius magna, sed accumsan elit. Maecenas lobortis lectus nec fermentum lacinia.\n",
    "Suspendisse placerat euismod sem eu pretium. Sed efficitur, dolor sed aliquet molestie,\n",
    "mauris enim tristique nulla, in elementum erat velit quis diam. Ut non nisi quis tellus\n",
    "iaculis lacinia vel non sapien. Fusce eget dui ullamcorper, semper ipsum non, convallis\n",
    "mauris. Donec rutrum diam nisi, id tempus sapien pharetra eu. Nunc tempus varius erat,\n",
    "ultricies congue est aliquam sed.\"\"\""
   ],
   "metadata": {
    "collapsed": false
   }
  },
  {
   "cell_type": "code",
   "execution_count": 23,
   "outputs": [
    {
     "name": "stdout",
     "output_type": "stream",
     "text": [
      "Saving parquet file part 0\n",
      "Saving parquet file part 1\n",
      "Saving parquet file part 2\n",
      "Saving parquet file part 3\n",
      "Saving parquet file part 4\n",
      "Saving parquet file part 5\n",
      "Saving parquet file part 6\n",
      "Saving parquet file part 7\n",
      "Saving parquet file part 8\n",
      "Saving parquet file part 9\n"
     ]
    }
   ],
   "source": [
    "%%time\n",
    "\n",
    "!rm -rf {data_dir}\n",
    "!mkdir {data_dir}\n",
    "\n",
    "for n in range(10):\n",
    "    print(f\"Saving parquet file part {n}\")\n",
    "    t = pa.table({\n",
    "        \"id\": list(range(n * sample_size, (n + 1) * sample_size)),\n",
    "        \"text\": [text * 3] * sample_size,\n",
    "        \"to_be_ignored\": np.random.randint(30, size=sample_size)\n",
    "    })\n",
    "    pq.write_table(t, f\"{data_dir}/part-{n}.parquet\")"
   ],
   "metadata": {
    "collapsed": false
   }
  },
  {
   "cell_type": "code",
   "execution_count": 46,
   "outputs": [
    {
     "name": "stdout",
     "output_type": "stream",
     "text": [
      " 49M\t./tmp\r\n"
     ]
    },
    {
     "data": {
      "text/plain": "10000000"
     },
     "execution_count": 46,
     "metadata": {},
     "output_type": "execute_result"
    }
   ],
   "source": [
    "!du -sh {data_dir}\n",
    "\n",
    "ds.dataset(data_dir, format=\"parquet\").count_rows()\n"
   ],
   "metadata": {
    "collapsed": false
   }
  }
 ],
 "metadata": {
  "kernelspec": {
   "display_name": "Python 3",
   "language": "python",
   "name": "python3"
  },
  "language_info": {
   "codemirror_mode": {
    "name": "ipython",
    "version": 2
   },
   "file_extension": ".py",
   "mimetype": "text/x-python",
   "name": "python",
   "nbconvert_exporter": "python",
   "pygments_lexer": "ipython2",
   "version": "2.7.6"
  }
 },
 "nbformat": 4,
 "nbformat_minor": 0
}
